{
 "cells": [
  {
   "cell_type": "code",
   "execution_count": 1,
   "metadata": {},
   "outputs": [
    {
     "data": {
      "text/plain": [
       "'\\nData Visualization Practice Project\\nCreated by @LucienMens\\nThis project is a refinement of a final exam I had for a programming class.\\n\\nThe program takes in airbnb csv files and processes the hosting info, room info,\\nthe price, and the types of rooms.\\n\\nI am experimenting with pandas for processing the data and matlab plotting\\nfor displaying the data. Currently, the displays are not interactive, but I\\nwould like to add that in eventually.\\n'"
      ]
     },
     "execution_count": 1,
     "metadata": {},
     "output_type": "execute_result"
    }
   ],
   "source": [
    "'''\n",
    "Data Visualization Practice Project\n",
    "Created by @LucienMens\n",
    "This project is a refinement of a final exam I had for a programming class.\n",
    "\n",
    "The program takes in airbnb csv files and processes the hosting info, room info,\n",
    "the price, and the types of rooms.\n",
    "\n",
    "I am experimenting with pandas for processing the data and matlab plotting\n",
    "for displaying the data. Currently, the displays are not interactive, but I\n",
    "would like to add that in eventually.\n",
    "'''"
   ]
  },
  {
   "cell_type": "code",
   "execution_count": 2,
   "metadata": {},
   "outputs": [],
   "source": [
    "import statistics\n",
    "from decimal import Decimal\n",
    "from collections import Counter\n",
    "import pandas as pd\n",
    "import numpy as np\n",
    "import matplotlib.pyplot as plt\n",
    "import csv\n",
    "%matplotlib inline"
   ]
  },
  {
   "cell_type": "code",
   "execution_count": 3,
   "metadata": {},
   "outputs": [
    {
     "name": "stdout",
     "output_type": "stream",
     "text": [
      "Enter a file name: brno3.csv\n"
     ]
    }
   ],
   "source": [
    "#filename should be xxx.csv\n",
    "x = input(\"Enter a file name: \")\n",
    "#data needs to be a global var for plots\n",
    "dataset = pd.read_csv(x)\n",
    "#this reads the file and puts it into a dataset\n",
    "def dataCreate(x):\n",
    "#used for verification to make sure there are enough rows & columns\n",
    "    y = dataset.shape\n",
    "    print(y)"
   ]
  },
  {
   "cell_type": "code",
   "execution_count": 4,
   "metadata": {},
   "outputs": [],
   "source": [
    "def listingsInfo(x):\n",
    "    multi =  dataset['host_id'].value_counts()\n",
    "    #this gives you the total number of hostids\n",
    "    print(\"Total number of listings is:\",len(multi))\n",
    "    print(\"Maximum number of listings per hosts:\", max(multi))\n",
    "    return multi"
   ]
  },
  {
   "cell_type": "code",
   "execution_count": 5,
   "metadata": {},
   "outputs": [],
   "source": [
    "#Percentage of hosts that have more than one listing\n",
    "def multiHosts(x):\n",
    "    v = dataset['host_id'].value_counts()\n",
    "    atwo = dataset[dataset['host_id'].isin(v.index[v.gt(2)])]\n",
    "#percentage of hosts\n",
    "    perhos = int(((round((len(atwo) / len(v)), 2))*100))\n",
    "    print(\"The percentage of hosts with more than one listing is\",\n",
    "      perhos,\"percent.\")"
   ]
  },
  {
   "cell_type": "code",
   "execution_count": 6,
   "metadata": {},
   "outputs": [],
   "source": [
    "#Total price of all listings in the city/region for one night\n",
    "def listPrices(x):\n",
    "    dataset['price'] = pd.to_numeric(dataset['price'])\n",
    "    print(\"The total price of all listings in the city for one night are\", \n",
    "      int(dataset['price'].sum()),\"dollars, USD.\")"
   ]
  },
  {
   "cell_type": "code",
   "execution_count": 7,
   "metadata": {},
   "outputs": [],
   "source": [
    "#Median listing price\n",
    "def medList(x):\n",
    "    tot = int(statistics.median(dataset['price']))\n",
    "    print(\"The median room price is\",tot,\"dollars, USD.\")"
   ]
  },
  {
   "cell_type": "code",
   "execution_count": 8,
   "metadata": {},
   "outputs": [],
   "source": [
    "#The shares of private rooms, shared rooms, and entire home/apartments\n",
    "def roomShares(x):\n",
    "    rooms = dataset['room_type'].value_counts(normalize=True).iloc[:3].round(decimals=2)\n",
    "    room = rooms[0:3]\n",
    "    global per\n",
    "    for x in dataset.iteritems():\n",
    "        per = room * 100\n",
    "    print(\"The percentages of entire rooms are\",int(per[0]),\n",
    "      \"percent, private rooms are\",int(per[1]),\n",
    "      \"percent, and shared rooms are,\",int(per[2]),\"percent.\")\n",
    "    "
   ]
  },
  {
   "cell_type": "code",
   "execution_count": 9,
   "metadata": {},
   "outputs": [
    {
     "name": "stdout",
     "output_type": "stream",
     "text": [
      "(488, 19)\n",
      "Total number of listings is: 325\n",
      "Maximum number of listings per hosts: 14\n",
      "The percentage of hosts with more than one listing is 55 percent.\n",
      "The total price of all listings in the city for one night are 23347 dollars, USD.\n",
      "The median room price is 39 dollars, USD.\n",
      "The percentages of entire rooms are 60 percent, private rooms are 36 percent, and shared rooms are, 3 percent.\n"
     ]
    }
   ],
   "source": [
    "#func calls\n",
    "dataCreate(x)\n",
    "listingsInfo(x)\n",
    "multiHosts(x)\n",
    "listPrices(x)\n",
    "medList(x)\n",
    "roomShares(x)"
   ]
  },
  {
   "cell_type": "code",
   "execution_count": 10,
   "metadata": {},
   "outputs": [
    {
     "data": {
      "image/png": "[encoded data removed]",
      "text/plain": [
       "<Figure size 432x288 with 1 Axes>"
      ]
     },
     "metadata": {
      "needs_background": "light"
     },
     "output_type": "display_data"
    }
   ],
   "source": [
    "#Data Vis- Visual Display of the Rooms and their hosts\n",
    "#Eventually would like to enable a zoom feature, also show full numbers\n",
    "plt.scatter(dataset[\"host_id\"],dataset[\"room_id\"], color = \"purple\")\n",
    "plt.title(\"Host and Room Ids\")\n",
    "plt.xlabel(\"Host ID\")\n",
    "plt.ylabel(\"Room ID\")\n",
    "plt.show()"
   ]
  },
  {
   "cell_type": "code",
   "execution_count": 86,
   "metadata": {},
   "outputs": [
    {
     "data": {
      "image/png": "[encoded data removed]",
      "text/plain": [
       "<Figure size 432x288 with 1 Axes>"
      ]
     },
     "metadata": {
      "needs_background": "light"
     },
     "output_type": "display_data"
    }
   ],
   "source": [
    "#Data Vis- Histogram of . Probably would be best shown with a bar graph\n",
    "plt.hist(multi, bins = 30)\n",
    "plt.title(\"Distribution of Host IDs\")\n",
    "plt.xlabel(\"Number of Hosts with Multiple Listings\")\n",
    "plt.ylabel(\"Frequency\")\n",
    "plt.show()"
   ]
  },
  {
   "cell_type": "code",
   "execution_count": 87,
   "metadata": {},
   "outputs": [
    {
     "data": {
      "image/png": "[encoded data removed]",
      "text/plain": [
       "<Figure size 432x288 with 1 Axes>"
      ]
     },
     "metadata": {},
     "output_type": "display_data"
    }
   ],
   "source": [
    "#Data Vis- Pie Graph\n",
    "labels = [\"Entire\",\"Private\",\"Shared\"]\n",
    "sizes = [per[0],per[1],per[2]]\n",
    "plt.pie(sizes, labels=labels,explode= (0.01,0.01,0.01))\n",
    "plt.axis('equal')\n",
    "plt.show()"
   ]
  },
  {
   "cell_type": "code",
   "execution_count": 88,
   "metadata": {},
   "outputs": [
    {
     "data": {
      "image/png": "[encoded data removed]",
      "text/plain": [
       "<Figure size 432x288 with 1 Axes>"
      ]
     },
     "metadata": {
      "needs_background": "light"
     },
     "output_type": "display_data"
    }
   ],
   "source": [
    "plt.hist(dataset[\"host_id\"], bins = 30)\n",
    "plt.title(\"Distribution of Host IDs\")\n",
    "plt.xlabel(\"Host ID\")\n",
    "plt.ylabel(\"Frequency\")\n",
    "plt.show()"
   ]
  }
 ],
 "metadata": {
  "kernelspec": {
   "display_name": "Python 3",
   "language": "python",
   "name": "python3"
  },
  "language_info": {
   "codemirror_mode": {
    "name": "ipython",
    "version": 3
   },
   "file_extension": ".py",
   "mimetype": "text/x-python",
   "name": "python",
   "nbconvert_exporter": "python",
   "pygments_lexer": "ipython3",
   "version": "3.8.3"
  }
 },
 "nbformat": 4,
 "nbformat_minor": 4
}
